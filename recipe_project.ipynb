{
  "nbformat": 4,
  "nbformat_minor": 0,
  "metadata": {
    "colab": {
      "provenance": []
    },
    "kernelspec": {
      "name": "python3",
      "display_name": "Python 3"
    },
    "language_info": {
      "name": "python"
    }
  },
  "cells": [
    {
      "cell_type": "code",
      "source": [
        "# Website of recipe search\n",
        "# https://developer.edamam.com/edamam-recipe-api"
      ],
      "metadata": {
        "id": "Vc7qpQaJcOyr"
      },
      "execution_count": null,
      "outputs": []
    },
    {
      "cell_type": "code",
      "source": [
        "import requests"
      ],
      "metadata": {
        "id": "uhMb26aKbtab"
      },
      "execution_count": 2,
      "outputs": []
    },
    {
      "cell_type": "markdown",
      "source": [
        "Recipe Search and Nutrition Analysis API"
      ],
      "metadata": {
        "id": "C0_xIaBXTZXV"
      }
    },
    {
      "cell_type": "code",
      "source": [
        "def recipe_search(ingredient):\n",
        "  app_id = ''\n",
        "  app_key = ''\n",
        "  # Fetch the data\n",
        "  result = requests.get('https://api.edamam.com/search?q={}&app_id={}&app_key={}'.format(ingredient, app_id, app_key))\n",
        "  data = result.json()\n",
        "  return data['hits']\n",
        "\n",
        "def ingredient_search(ingredient):\n",
        "  app_id = ''\n",
        "  app_key = ''\n",
        "  # Fetch the data\n",
        "  result = requests.get('https://api.edamam.com/api/nutrition-data?app_id={}&app_key={}&nutrition-type=logging&ingr={}'.format(app_id, app_key, ingredient))\n",
        "  data = result.json()\n",
        "  return data\n",
        "\n",
        "def run():\n",
        "  ingredient = input('Enter an ingredient: ')\n",
        "  min_weight = input('Enter the minimum weight of the ingredients: ')\n",
        "  results = recipe_search(ingredient)\n",
        "  # Filter results by weight:\n",
        "  results_filtered = list(filter(lambda result: result['recipe']['totalWeight']>float(min_weight), results))\n",
        "  # Sort results by weight:\n",
        "  results_sorted_weight = sorted(results_filtered, key=lambda result: result['recipe']['totalWeight'])\n",
        "  # Nutrition analysis of ingredient:\n",
        "  nutrition = ingredient_search(ingredient)\n",
        "  print('Nutrition analysis of ' + ingredient + ':')\n",
        "  print('- Calories:', nutrition['calories'])\n",
        "  print('- Total weight:', nutrition['totalWeight'], '\\n')\n",
        "\n",
        "  with open('recipe_list.txt', 'w+') as text_file:\n",
        "    print('Results ordered by weight:')\n",
        "    # Save results to a file:\n",
        "    text_file.write('Nutrition analysis of ' + ingredient + ':\\n')\n",
        "    text_file.write('- Calories: {}\\n'.format(nutrition['calories']))\n",
        "    text_file.write('- Total weight: {}\\n\\n'.format(nutrition['totalWeight']))\n",
        "\n",
        "    text_file.write('Results ordered by weight:\\n')\n",
        "    for result in results_sorted_weight:\n",
        "      recipe = result['recipe']\n",
        "\n",
        "      print(recipe['label'] + '\\n' + recipe['url'])\n",
        "      print('Weight:', recipe['totalWeight'], '\\n')\n",
        "\n",
        "      text_file.write(recipe['label'] + '\\n' + recipe['url'] + '\\n')\n",
        "      text_file.write('Weight: {}\\n\\n'.format(recipe['totalWeight']))\n",
        "\n",
        "run()"
      ],
      "metadata": {
        "id": "dCStavAfVrbA"
      },
      "execution_count": null,
      "outputs": []
    }
  ]
}